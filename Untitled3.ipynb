{
  "nbformat": 4,
  "nbformat_minor": 0,
  "metadata": {
    "colab": {
      "name": "Untitled3.ipynb",
      "provenance": [],
      "mount_file_id": "1xczCN0an2AvSNM78qKFKu_PpnJHOeiJP",
      "authorship_tag": "ABX9TyNJbGQLo9MPQpJcoENFcU56",
      "include_colab_link": true
    },
    "kernelspec": {
      "name": "python3",
      "display_name": "Python 3"
    },
    "language_info": {
      "name": "python"
    }
  },
  "cells": [
    {
      "cell_type": "markdown",
      "metadata": {
        "id": "view-in-github",
        "colab_type": "text"
      },
      "source": [
        "<a href=\"https://colab.research.google.com/github/puspo1997/PreProcessing_Code/blob/master/Untitled3.ipynb\" target=\"_parent\"><img src=\"https://colab.research.google.com/assets/colab-badge.svg\" alt=\"Open In Colab\"/></a>"
      ]
    },
    {
      "cell_type": "code",
      "metadata": {
        "colab": {
          "base_uri": "https://localhost:8080/"
        },
        "id": "nwMPoQOsmJ_n",
        "outputId": "33cb3ee1-6841-4bde-8617-25746327925d"
      },
      "source": [
        "!git clone https://github.com/DavidReveloLuna/MaskRCNN_Video.git"
      ],
      "execution_count": null,
      "outputs": [
        {
          "output_type": "stream",
          "text": [
            "Cloning into 'MaskRCNN_Video'...\n",
            "remote: Enumerating objects: 11, done.\u001b[K\n",
            "remote: Counting objects: 100% (11/11), done.\u001b[K\n",
            "remote: Compressing objects: 100% (10/10), done.\u001b[K\n",
            "remote: Total 244 (delta 2), reused 5 (delta 1), pack-reused 233\u001b[K\n",
            "Receiving objects: 100% (244/244), 135.17 MiB | 18.42 MiB/s, done.\n",
            "Resolving deltas: 100% (57/57), done.\n"
          ],
          "name": "stdout"
        }
      ]
    },
    {
      "cell_type": "code",
      "metadata": {
        "id": "9CSdVTO9mQdW"
      },
      "source": [
        "!python setup.py install"
      ],
      "execution_count": null,
      "outputs": []
    },
    {
      "cell_type": "code",
      "metadata": {
        "colab": {
          "base_uri": "https://localhost:8080/"
        },
        "id": "09q1F_dkmQgo",
        "outputId": "0f2d1667-96f9-492b-bc6f-51e0c5360a8d"
      },
      "source": [
        "cd MaskRCNN_Video/\n"
      ],
      "execution_count": null,
      "outputs": [
        {
          "output_type": "stream",
          "text": [
            "/content/MaskRCNN_Video\n"
          ],
          "name": "stdout"
        }
      ]
    },
    {
      "cell_type": "code",
      "metadata": {
        "id": "JEtCjOBnmQjx"
      },
      "source": [
        "import os\n",
        "import sys\n",
        "import json\n",
        "import datetime\n",
        "import numpy as np\n",
        "import skimage.draw\n",
        "import matplotlib.image\n",
        "import glob\n",
        "import scipy.misc\n",
        "from PIL import Image\n",
        "#import imgaug \n",
        "from imgaug import augmenters as iaa\n"
      ],
      "execution_count": 1,
      "outputs": []
    },
    {
      "cell_type": "code",
      "metadata": {
        "colab": {
          "base_uri": "https://localhost:8080/"
        },
        "id": "h2ZRV0sXmoTl",
        "outputId": "7326a161-75d0-4257-b3eb-c61ce9cf8aff"
      },
      "source": [
        "cd /content/drive/MyDrive/Mammographic"
      ],
      "execution_count": 2,
      "outputs": [
        {
          "output_type": "stream",
          "text": [
            "/content/drive/MyDrive/Mammographic\n"
          ],
          "name": "stdout"
        }
      ]
    },
    {
      "cell_type": "code",
      "metadata": {
        "id": "hbd_Bzhemhqy"
      },
      "source": [
        "# Root directory of the project\n",
        "ROOT_DIR = os.getcwd()\n",
        "ROOT_DIR = ROOT_DIR+\"/Mask_r_cnn/\"\n",
        "\n",
        "MAMOGRAM_IMAGE_DIR = \"/scans/pseudo_color_image/\" #Path of the mammograms\n",
        "MAMOGRAM_MASK_DIR = \"/scans/preprocessed_mask1/\"# Path of the ground truth masks\n",
        "\n",
        "\n",
        "# Import Mask RCNN\n",
        "sys.path.append(ROOT_DIR) # To find local version of the library\n",
        "from mrcnn.config import Config\n",
        "from mrcnn import model as modellib, utils\n",
        "\n",
        "# Path to trained weights file\n",
        "COCO_WEIGHTS_PATH = os.path.join(ROOT_DIR, \"mask_rcnn_balloon.h5\")\n",
        "\n",
        "# Directory to save logs and model checkpoints, if not provided\n",
        "# through the command line argument --logs\n",
        "DEFAULT_LOGS_DIR = os.path.join(\"/content/drive/MyDrive/Mammographic\", \"logs\")#Log directory for saving the weights\n",
        "DEMO_SAVE_DIR = \"scans/seg_mask/\"# path to save the segmentation masks\n"
      ],
      "execution_count": 3,
      "outputs": []
    },
    {
      "cell_type": "code",
      "metadata": {
        "id": "RXB57yVkmhtZ"
      },
      "source": [
        "############################################################\n",
        "#  Configurations\n",
        "############################################################\n",
        "\n",
        "\n",
        "class MamogramConfig(Config):\n",
        "    \"\"\"Configuration for training on the toy  dataset.\n",
        "    Derives from the base Config class and overrides some values.\n",
        "    \"\"\"\n",
        "    # Give the configuration a recognizable name\n",
        "    NAME = \"mamogram\"\n",
        "\n",
        "    # We use a GPU with 12GB memory, which can fit two images.\n",
        "    # Adjust down if you use a smaller GPU.\n",
        "    IMAGES_PER_GPU = 1\n",
        "\n",
        "    # Number of classes (including background)\n",
        "    NUM_CLASSES = 1 + 1  # Background + lesion\n",
        "\n",
        "    # Number of training steps per epoch,set to the number of training data here\n",
        "    STEPS_PER_EPOCH = 100\n",
        "\n",
        "    # Number of validation steps after each round of training\n",
        "    VALIDATION_STEPS = 10\n",
        "    # Resize mode: \"none\" or \"square\"\n",
        "\n",
        "    IMAGE_RESIZE_MODE = \"square\"\n",
        "    IMAGE_MIN_DIM = 1024\n",
        "    IMAGE_MAX_DIM = 1024\n",
        "\n",
        "    # Skip detections with < DETECTION_MIN_CONFIDENCE\n",
        "    DETECTION_MIN_CONFIDENCE = 0.965 # alter this during testing to generate different TPR at different FPI\n",
        "    # 0.7 0.75 0.8 0.85 0.9 \n",
        "\n",
        "config = MamogramConfig()\n",
        "config.display()"
      ],
      "execution_count": null,
      "outputs": []
    },
    {
      "cell_type": "code",
      "metadata": {
        "id": "LvS9hQvPm5lu"
      },
      "source": [
        "############################################################\n",
        "#  Dataset\n",
        "############################################################\n",
        "\n",
        "class MamogramDataset(utils.Dataset):\n",
        "\n",
        "    def load_mamogram(self, subset):\n",
        "        \"\"\"This method loads the actual image\n",
        "        subset is either \"train\" or \"val\" depending on whether the image is part of the training or validation datasets \n",
        "        \"\"\"\n",
        "        # Add classes. We have only one class to add.\n",
        "        # These are the things that will be segmented\n",
        "        self.add_class(\"mamogram\", 1, \"lesion\")\n",
        "\n",
        "        # Train or validation dataset?\n",
        "\n",
        "        #list all the files in the directory with the mamogram images\n",
        "        files = os.listdir(ROOT_DIR + MAMOGRAM_IMAGE_DIR + subset + \"/\")\n",
        "        \n",
        "        for fname in files:            \n",
        "            self.add_image(\"mamogram\", image_id=fname, \n",
        "                           path=ROOT_DIR + MAMOGRAM_IMAGE_DIR + subset +\"/\"+ fname, subset=subset, fname=fname)\n",
        "\n",
        "\n",
        "    def load_mask(self, image_id):\n",
        "        \"\"\"load the instance masks for an image.\n",
        "        Returns:\n",
        "        a tuple containing:\n",
        "        masks: A bool array of shape [height, width, instance count] with\n",
        "        one mask per instance.\n",
        "        class_ids: a 1D array of class IDs of the instance masks.\n",
        "        use dtype=np.int32\n",
        "        \"\"\"\n",
        "        image_info = self.image_info[image_id]\n",
        "        info = self.image_info[image_id]\n",
        "        fname = info['fname']\n",
        "        count=len(fname)\n",
        "       \n",
        "\n",
        "        files = glob.glob(ROOT_DIR + MAMOGRAM_MASK_DIR + \n",
        "                          info['subset'] + fname[0:-4] + \"*\")\n",
        "        \n",
        "\n",
        "        masks = []\n",
        "        for i in range(0, len(files)):\n",
        "            data = skimage.io.imread(files[i])\n",
        "            \n",
        "            if data.ndim != 1:\n",
        "                data = skimage.color.rgb2gray(data)\n",
        "          \n",
        "            singleMask = data\n",
        "            if i == 0:\n",
        "                #masks = np.zeros([singleMask.shape[0],singleMask.shape[1], len(files)],dtype=np.uint8)\n",
        "                masks = np.zeros((singleMask.shape[0], singleMask.shape[1], len(files)))\n",
        "            masks[:,:,i] = singleMask\n",
        "\n",
        "        instanceMaskMap = np.array(np.ones([masks.shape[-1]], dtype=np.int32))\n",
        "        \n",
        "        return (masks.astype(np.bool), instanceMaskMap)\n",
        "\n",
        "\n",
        "        #class_ids = np.array([self.class_names.index(s[0]) for s in fname])\n",
        "        #return mask.astype(np.bool), class_ids.astype(np.int32)\n",
        "         #this is VERY important: array of class ids in the order that they appear in bigdata\n",
        "        # Return mask, and array of class IDs of each instance. Since we have\n",
        "        # one class ID only, we return an array of 1"
      ],
      "execution_count": 5,
      "outputs": []
    },
    {
      "cell_type": "code",
      "metadata": {
        "id": "Z0OD2sBGm8bm"
      },
      "source": [
        " # Training dataset.\n",
        "dataset_train = MamogramDataset()\n",
        "dataset_train.load_mamogram(\"train\")\n",
        "dataset_train.prepare()\n",
        "\n",
        "    # Validation dataset\n",
        "dataset_val = MamogramDataset()\n",
        "dataset_val.load_mamogram(\"val\")\n",
        "dataset_val.prepare()"
      ],
      "execution_count": 6,
      "outputs": []
    },
    {
      "cell_type": "code",
      "metadata": {
        "id": "J0Y-8afFm8eP"
      },
      "source": [
        "model = modellib.MaskRCNN(mode=\"training\", config=config,model_dir=DEFAULT_LOGS_DIR)\n",
        "    "
      ],
      "execution_count": 7,
      "outputs": []
    },
    {
      "cell_type": "code",
      "metadata": {
        "id": "GcgfiDIhm5op"
      },
      "source": [
        "model.load_weights(COCO_WEIGHTS_PATH, by_name=True, exclude=[\n",
        "            \"mrcnn_class_logits\", \"mrcnn_bbox_fc\",\n",
        "            \"mrcnn_bbox\", \"mrcnn_mask\"])"
      ],
      "execution_count": 8,
      "outputs": []
    },
    {
      "cell_type": "code",
      "metadata": {
        "colab": {
          "base_uri": "https://localhost:8080/",
          "height": 333
        },
        "id": "shfYtDiMnBcG",
        "outputId": "0a759f7a-156e-4bc3-df32-4f4f21c0681f"
      },
      "source": [
        "# Load and display random samples\n",
        "dataset = dataset_train\n",
        "image_ids = np.random.choice(dataset.image_ids, 4)\n",
        "for image_id in image_ids:\n",
        "    image = dataset.load_image(image_id)\n",
        "    masks, num_ids = dataset.load_mask(image_id)\n",
        "    visualize.display_top_masks(image, mask, class_ids, dataset.class_names)"
      ],
      "execution_count": 9,
      "outputs": [
        {
          "output_type": "error",
          "ename": "AttributeError",
          "evalue": "ignored",
          "traceback": [
            "\u001b[0;31m---------------------------------------------------------------------------\u001b[0m",
            "\u001b[0;31mAttributeError\u001b[0m                            Traceback (most recent call last)",
            "\u001b[0;32m<ipython-input-9-9b0ab193ea90>\u001b[0m in \u001b[0;36m<module>\u001b[0;34m()\u001b[0m\n\u001b[1;32m      4\u001b[0m \u001b[0;32mfor\u001b[0m \u001b[0mimage_id\u001b[0m \u001b[0;32min\u001b[0m \u001b[0mimage_ids\u001b[0m\u001b[0;34m:\u001b[0m\u001b[0;34m\u001b[0m\u001b[0;34m\u001b[0m\u001b[0m\n\u001b[1;32m      5\u001b[0m     \u001b[0mimage\u001b[0m \u001b[0;34m=\u001b[0m \u001b[0mdataset\u001b[0m\u001b[0;34m.\u001b[0m\u001b[0mload_image\u001b[0m\u001b[0;34m(\u001b[0m\u001b[0mimage_id\u001b[0m\u001b[0;34m)\u001b[0m\u001b[0;34m\u001b[0m\u001b[0;34m\u001b[0m\u001b[0m\n\u001b[0;32m----> 6\u001b[0;31m     \u001b[0mmasks\u001b[0m\u001b[0;34m,\u001b[0m \u001b[0mnum_ids\u001b[0m \u001b[0;34m=\u001b[0m \u001b[0mdataset\u001b[0m\u001b[0;34m.\u001b[0m\u001b[0mload_mask\u001b[0m\u001b[0;34m(\u001b[0m\u001b[0mimage_id\u001b[0m\u001b[0;34m)\u001b[0m\u001b[0;34m\u001b[0m\u001b[0;34m\u001b[0m\u001b[0m\n\u001b[0m\u001b[1;32m      7\u001b[0m     \u001b[0mvisualize\u001b[0m\u001b[0;34m.\u001b[0m\u001b[0mdisplay_top_masks\u001b[0m\u001b[0;34m(\u001b[0m\u001b[0mimage\u001b[0m\u001b[0;34m,\u001b[0m \u001b[0mmask\u001b[0m\u001b[0;34m,\u001b[0m \u001b[0mclass_ids\u001b[0m\u001b[0;34m,\u001b[0m \u001b[0mdataset\u001b[0m\u001b[0;34m.\u001b[0m\u001b[0mclass_names\u001b[0m\u001b[0;34m)\u001b[0m\u001b[0;34m\u001b[0m\u001b[0;34m\u001b[0m\u001b[0m\n",
            "\u001b[0;32m<ipython-input-5-bc4e5a615405>\u001b[0m in \u001b[0;36mload_mask\u001b[0;34m(self, image_id)\u001b[0m\n\u001b[1;32m     55\u001b[0m             \u001b[0mmasks\u001b[0m\u001b[0;34m[\u001b[0m\u001b[0;34m:\u001b[0m\u001b[0;34m,\u001b[0m\u001b[0;34m:\u001b[0m\u001b[0;34m,\u001b[0m\u001b[0mi\u001b[0m\u001b[0;34m]\u001b[0m \u001b[0;34m=\u001b[0m \u001b[0msingleMask\u001b[0m\u001b[0;34m\u001b[0m\u001b[0;34m\u001b[0m\u001b[0m\n\u001b[1;32m     56\u001b[0m \u001b[0;34m\u001b[0m\u001b[0m\n\u001b[0;32m---> 57\u001b[0;31m         \u001b[0minstanceMaskMap\u001b[0m \u001b[0;34m=\u001b[0m \u001b[0mnp\u001b[0m\u001b[0;34m.\u001b[0m\u001b[0marray\u001b[0m\u001b[0;34m(\u001b[0m\u001b[0mnp\u001b[0m\u001b[0;34m.\u001b[0m\u001b[0mones\u001b[0m\u001b[0;34m(\u001b[0m\u001b[0;34m[\u001b[0m\u001b[0mmasks\u001b[0m\u001b[0;34m.\u001b[0m\u001b[0mshape\u001b[0m\u001b[0;34m[\u001b[0m\u001b[0;34m-\u001b[0m\u001b[0;36m1\u001b[0m\u001b[0;34m]\u001b[0m\u001b[0;34m]\u001b[0m\u001b[0;34m,\u001b[0m \u001b[0mdtype\u001b[0m\u001b[0;34m=\u001b[0m\u001b[0mnp\u001b[0m\u001b[0;34m.\u001b[0m\u001b[0mint32\u001b[0m\u001b[0;34m)\u001b[0m\u001b[0;34m)\u001b[0m\u001b[0;34m\u001b[0m\u001b[0;34m\u001b[0m\u001b[0m\n\u001b[0m\u001b[1;32m     58\u001b[0m \u001b[0;34m\u001b[0m\u001b[0m\n\u001b[1;32m     59\u001b[0m         \u001b[0;32mreturn\u001b[0m \u001b[0;34m(\u001b[0m\u001b[0mmasks\u001b[0m\u001b[0;34m.\u001b[0m\u001b[0mastype\u001b[0m\u001b[0;34m(\u001b[0m\u001b[0mnp\u001b[0m\u001b[0;34m.\u001b[0m\u001b[0mbool\u001b[0m\u001b[0;34m)\u001b[0m\u001b[0;34m,\u001b[0m \u001b[0minstanceMaskMap\u001b[0m\u001b[0;34m)\u001b[0m\u001b[0;34m\u001b[0m\u001b[0;34m\u001b[0m\u001b[0m\n",
            "\u001b[0;31mAttributeError\u001b[0m: 'list' object has no attribute 'shape'"
          ]
        }
      ]
    }
  ]
}