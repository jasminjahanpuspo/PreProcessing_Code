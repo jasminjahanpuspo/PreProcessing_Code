{
  "nbformat": 4,
  "nbformat_minor": 0,
  "metadata": {
    "colab": {
      "provenance": [],
      "gpuType": "T4"
    },
    "kernelspec": {
      "name": "python3",
      "display_name": "Python 3"
    },
    "language_info": {
      "name": "python"
    },
    "accelerator": "GPU"
  },
  "cells": [
    {
      "cell_type": "markdown",
      "source": [
        "## Count image Numbers ##"
      ],
      "metadata": {
        "id": "LtytYt8InMCX"
      }
    },
    {
      "cell_type": "code",
      "source": [
        "from google.colab import drive\n",
        "drive.mount('/content/drive')"
      ],
      "metadata": {
        "id": "pVuNYOn3VXlz"
      },
      "execution_count": null,
      "outputs": []
    },
    {
      "cell_type": "code",
      "source": [
        "import os\n",
        "\n",
        "def count_images_in_folder(folder_path):\n",
        "    # List all files in the folder\n",
        "    all_files = os.listdir(folder_path)\n",
        "\n",
        "    # Filter image files\n",
        "    image_files = [file for file in all_files if file.lower().endswith(('.jpg', '.jpeg', '.png'))]\n",
        "\n",
        "    # Return the count of image files\n",
        "    return len(image_files)\n",
        "\n",
        "# Specify the paths to the training and testing folders\n",
        "train_folder_path = '/content/drive/MyDrive/Fishtrain/Tail And Fin Rot'\n",
        "test_folder_path = '/content/drive/MyDrive/Fishtrain/THE BACTERIAL GILL ROT'\n",
        "\n",
        "# Call the function to get the count for training and testing sets\n",
        "train_image_count = count_images_in_folder(train_folder_path)\n",
        "test_image_count = count_images_in_folder(test_folder_path)\n",
        "\n",
        "# Print the results\n",
        "print(f'The number of images in the training set is: {train_image_count}')\n",
        "print(f'The number of images in the testing set is: {test_image_count}')\n"
      ],
      "metadata": {
        "colab": {
          "base_uri": "https://localhost:8080/"
        },
        "id": "S8sd-UbUlx5D",
        "outputId": "28e610a7-33c0-4546-f10d-e2bf25a082f0"
      },
      "execution_count": null,
      "outputs": [
        {
          "output_type": "stream",
          "name": "stdout",
          "text": [
            "The number of images in the training set is: 705\n",
            "The number of images in the testing set is: 705\n"
          ]
        }
      ]
    },
    {
      "cell_type": "markdown",
      "source": [
        "## Augment Img ##"
      ],
      "metadata": {
        "id": "XWHucK_jnU0N"
      }
    },
    {
      "cell_type": "code",
      "source": [
        "import os\n",
        "from keras.preprocessing.image import ImageDataGenerator\n",
        "from keras.preprocessing import image\n",
        "import numpy as np\n",
        "\n",
        "def augment_images(input_folder, output_folder, target_image_count):\n",
        "    # Create output folder if it doesn't exist\n",
        "    os.makedirs(output_folder, exist_ok=True)\n",
        "\n",
        "    # Initialize ImageDataGenerator for data augmentation\n",
        "    datagen = ImageDataGenerator(\n",
        "        rotation_range=40,\n",
        "        width_shift_range=0.2,\n",
        "        height_shift_range=0.2,\n",
        "        shear_range=0.2,\n",
        "        zoom_range=0.2,\n",
        "        horizontal_flip=True,\n",
        "        fill_mode='nearest'\n",
        "    )\n",
        "\n",
        "    # Get a list of all image files in the input folder\n",
        "    image_files = [f for f in os.listdir(input_folder) if f.lower().endswith(('.jpg', '.jpeg', '.png'))]\n",
        "\n",
        "    # Calculate the number of augmentations needed per image to reach the target count\n",
        "    augmentations_per_image = int(np.ceil(target_image_count / len(image_files)))\n",
        "\n",
        "    for image_file in image_files:\n",
        "        # Load the image\n",
        "        img_path = os.path.join(input_folder, image_file)\n",
        "        img = image.load_img(img_path)\n",
        "\n",
        "        # Convert the image to a Numpy array with shape (1, height, width, channels)\n",
        "        x = image.img_to_array(img)\n",
        "        x = np.expand_dims(x, axis=0)\n",
        "\n",
        "        # Generate augmented images and save them to the output folder\n",
        "        i = 0\n",
        "        for batch in datagen.flow(x, batch_size=1, save_to_dir=output_folder, save_prefix=image_file.split('.')[0], save_format='jpeg'):\n",
        "            i += 1\n",
        "            if i >= augmentations_per_image:\n",
        "                break\n",
        "\n",
        "# Specify the paths to input and output folders\n",
        "input_folder = '/content/drive/MyDrive/dataset/Fishtrain/Argulus'  ## specific folder path not a folder contains subfolder\n",
        "output_folder = '/content/drive/MyDrive/dataset/Fishtrain/Argulus/augment'\n",
        "target_image_count = 500  # Set the target number of images per folder\n",
        "\n",
        "# Call the function to augment images in each folder\n",
        "augment_images(input_folder, output_folder, target_image_count)\n"
      ],
      "metadata": {
        "id": "WdskWEpqT8hp"
      },
      "execution_count": null,
      "outputs": []
    },
    {
      "cell_type": "markdown",
      "source": [
        "## Copy img from one file to another ##"
      ],
      "metadata": {
        "id": "pzoBQvODnQYV"
      }
    },
    {
      "cell_type": "code",
      "source": [
        "import os\n",
        "import shutil\n",
        "import random\n",
        "\n",
        "def copy_random_images(source_folder, destination_folder, num_images_to_copy=500):\n",
        "    # List all files in the source folder\n",
        "    all_files = os.listdir(source_folder)\n",
        "\n",
        "    # Filter image files\n",
        "    image_files = [file for file in all_files if file.lower().endswith(('.jpg', '.jpeg', '.png'))]\n",
        "\n",
        "    # Ensure that the number of images to copy does not exceed the total number of images\n",
        "    num_images_to_copy = min(num_images_to_copy, len(image_files))\n",
        "\n",
        "    # Randomly select images\n",
        "    selected_images = random.sample(image_files, num_images_to_copy)\n",
        "\n",
        "    # Create the destination folder if it doesn't exist\n",
        "    os.makedirs(destination_folder, exist_ok=True)\n",
        "\n",
        "    # Copy selected images to the destination folder\n",
        "    for image_file in selected_images:\n",
        "        source_path = os.path.join(source_folder, image_file)\n",
        "        destination_path = os.path.join(destination_folder, image_file)\n",
        "        shutil.copyfile(source_path, destination_path)\n",
        "\n",
        "# Specify the paths to the source and destination folders\n",
        "source_folder = '/content/drive/MyDrive/archive/Augment_Output_Images/4'\n",
        "destination_folder = '/content/drive/MyDrive/archive/Augment_Images/4'\n",
        "\n",
        "# Call the function to copy 500 random images\n",
        "copy_random_images(source_folder, destination_folder, num_images_to_copy=500)\n"
      ],
      "metadata": {
        "id": "uMH4l2RtTyRW"
      },
      "execution_count": null,
      "outputs": []
    },
    {
      "cell_type": "markdown",
      "source": [
        "## Gray to pseudocolor##"
      ],
      "metadata": {
        "id": "TejMhl16UCur"
      }
    },
    {
      "cell_type": "code",
      "source": [
        "import os\n",
        "import cv2\n",
        "\n",
        "def convert_grayscale_to_pseudocolor(input_folder, output_folder):\n",
        "    # Create the output folder if it doesn't exist\n",
        "    if not os.path.exists(output_folder):\n",
        "        os.makedirs(output_folder)\n",
        "\n",
        "    # List all files in the input folder\n",
        "    file_list = os.listdir(input_folder)\n",
        "\n",
        "    for file_name in file_list:\n",
        "        # Construct the input and output file paths\n",
        "        input_path = os.path.join(input_folder, file_name)\n",
        "        output_path = os.path.join(output_folder, file_name)\n",
        "\n",
        "        # Read the grayscale image\n",
        "        grayscale_img = cv2.imread(input_path, cv2.IMREAD_GRAYSCALE)\n",
        "\n",
        "        if grayscale_img is not None:\n",
        "            # Normalize pixel values to the range [0, 255]\n",
        "            normalized_img = cv2.normalize(grayscale_img, None, 0, 255, cv2.NORM_MINMAX)\n",
        "\n",
        "            # Apply a pseudocolor map ('jet' colormap)\n",
        "            pseudocolor_img = cv2.applyColorMap(normalized_img, cv2.COLORMAP_JET)\n",
        "\n",
        "            # Save the pseudocolor image\n",
        "            cv2.imwrite(output_path, pseudocolor_img)\n",
        "            print(f\"Converted: {file_name}\")\n",
        "        else:\n",
        "            print(f\"Failed to read: {file_name}\")\n",
        "\n",
        "if __name__ == \"__main__\":\n",
        "    # Specify the input and output folders\n",
        "    input_folder_path = \"/content/drive/MyDrive/archive/Augment_Images\"\n",
        "    output_folder_path = \"/content/drive/MyDrive/archive/Psedocolor_Images\"\n",
        "\n",
        "    # Convert grayscale images to pseudocolor\n",
        "    convert_grayscale_to_pseudocolor(input_folder_path, output_folder_path)\n"
      ],
      "metadata": {
        "id": "4lwsa07Ns9i3"
      },
      "execution_count": null,
      "outputs": []
    },
    {
      "cell_type": "code",
      "source": [
        "import os\n",
        "import cv2\n",
        "\n",
        "def convert_grayscale_to_pseudocolor(input_folder, output_folder):\n",
        "    # Create the output folder if it doesn't exist\n",
        "    if not os.path.exists(output_folder):\n",
        "        os.makedirs(output_folder)\n",
        "\n",
        "    # List all files and subdirectories in the input folder\n",
        "    for root, dirs, files in os.walk(input_folder):\n",
        "        for file_name in files:\n",
        "            # Construct the input and output file paths\n",
        "            input_path = os.path.join(root, file_name)\n",
        "            relative_path = os.path.relpath(input_path, input_folder)\n",
        "            output_path = os.path.join(output_folder, relative_path)\n",
        "\n",
        "            # Read the grayscale image\n",
        "            grayscale_img = cv2.imread(input_path, cv2.IMREAD_GRAYSCALE)\n",
        "\n",
        "            if grayscale_img is not None:\n",
        "                # Apply a pseudocolor map\n",
        "                pseudocolor_img = cv2.applyColorMap(grayscale_img, cv2.COLORMAP_JET)\n",
        "\n",
        "                # Save the pseudocolor image\n",
        "                os.makedirs(os.path.dirname(output_path), exist_ok=True)\n",
        "                cv2.imwrite(output_path, pseudocolor_img)\n",
        "                print(f\"Converted: {relative_path}\")\n",
        "            else:\n",
        "                print(f\"Failed to read: {relative_path}\")\n",
        "\n",
        "if __name__ == \"__main__\":\n",
        "    # Specify the input and output folders\n",
        "    input_folder_path = \"/content/drive/MyDrive/archive/Augment_Images\"\n",
        "    output_folder_path = \"/content/drive/MyDrive/archive/Psedocolor_Images\"\n",
        "\n",
        "    # Convert grayscale images to pseudocolor recursively\n",
        "    convert_grayscale_to_pseudocolor(input_folder_path, output_folder_path)\n"
      ],
      "metadata": {
        "id": "4FFjkDuiUlOt"
      },
      "execution_count": null,
      "outputs": []
    },
    {
      "cell_type": "markdown",
      "source": [
        "##Test_Train_Split ##\n"
      ],
      "metadata": {
        "id": "kvjyvXxaUrX8"
      }
    },
    {
      "cell_type": "code",
      "source": [
        "import os\n",
        "from sklearn.model_selection import train_test_split\n",
        "import shutil\n",
        "\n",
        "def train_test_split_images(input_folder, output_train_folder, output_test_folder, test_size=0.2, random_seed=42):\n",
        "    # List all files in the input folder\n",
        "    all_files = os.listdir(input_folder)\n",
        "\n",
        "    # Filter image files\n",
        "    image_files = [file for file in all_files if file.lower().endswith(('.jpg', '.jpeg', '.png'))]\n",
        "\n",
        "    # Use train_test_split to split the images into training and testing sets\n",
        "    train_images, test_images = train_test_split(image_files, test_size=test_size, random_state=random_seed)\n",
        "\n",
        "    # Create output folders if they don't exist\n",
        "    os.makedirs(output_train_folder, exist_ok=True)\n",
        "    os.makedirs(output_test_folder, exist_ok=True)\n",
        "\n",
        "    # Copy training images to the output train folder\n",
        "    for image_file in train_images:\n",
        "        source_path = os.path.join(input_folder, image_file)\n",
        "        destination_path = os.path.join(output_train_folder, image_file)\n",
        "        shutil.copyfile(source_path, destination_path)\n",
        "\n",
        "    # Copy testing images to the output test folder\n",
        "    for image_file in test_images:\n",
        "        source_path = os.path.join(input_folder, image_file)\n",
        "        destination_path = os.path.join(output_test_folder, image_file)\n",
        "        shutil.copyfile(source_path, destination_path)\n",
        "\n",
        "# Specify the paths to the input, output train, and output test folders\n",
        "input_folder = '/content/drive/MyDrive/archive/Psedocolor_Images/4'\n",
        "output_train_folder = '/content/drive/MyDrive/archive/Psedo_Test_Train/Train/4'\n",
        "output_test_folder = '/content/drive/MyDrive/archive/Psedo_Test_Train/Test/4'\n",
        "\n",
        "# Call the function to perform the train-test split\n",
        "train_test_split_images(input_folder, output_train_folder, output_test_folder, test_size=0.2, random_seed=42)\n"
      ],
      "metadata": {
        "id": "ABBghbzqUrC7"
      },
      "execution_count": null,
      "outputs": []
    },
    {
      "cell_type": "code",
      "source": [
        "import os\n",
        "import shutil\n",
        "import random\n",
        "\n",
        "def split_data(input_folder, output_folder, train_ratio=0.8, val_ratio=0.2, test_ratio=0.1, seed=42):\n",
        "    # Create output folders if they don't exist\n",
        "    for folder in ['train', 'validation', 'test']:\n",
        "        os.makedirs(os.path.join(output_folder, folder), exist_ok=True)\n",
        "\n",
        "    # Set a random seed for reproducibility\n",
        "    random.seed(seed)\n",
        "\n",
        "    # Get the list of image files\n",
        "    image_files = [f for f in os.listdir(input_folder) if f.endswith(('.jpg', '.jpeg', '.png'))]\n",
        "\n",
        "    # Shuffle the list of image files\n",
        "    random.shuffle(image_files)\n",
        "\n",
        "    # Calculate the number of images for each split\n",
        "    total_images = len(image_files)\n",
        "    num_train = int(train_ratio * total_images)\n",
        "    num_val = int(val_ratio * total_images)\n",
        "\n",
        "    # Assign images to each split\n",
        "    train_images = image_files[:num_train]\n",
        "    val_images = image_files[num_train:num_train + num_val]\n",
        "    test_images = image_files[num_train + num_val:]\n",
        "\n",
        "    # Copy images to their respective folders\n",
        "    for image in train_images:\n",
        "        shutil.copy(os.path.join(input_folder, image), os.path.join(output_folder, 'train', image))\n",
        "\n",
        "    for image in val_images:\n",
        "        shutil.copy(os.path.join(input_folder, image), os.path.join(output_folder, 'validation', image))\n",
        "\n",
        "    for image in test_images:\n",
        "        shutil.copy(os.path.join(input_folder, image), os.path.join(output_folder, 'test', image))\n",
        "\n",
        "# Replace 'input_folder' and 'output_folder' with your actual paths\n",
        "input_folder = '/content/drive/MyDrive/Augment_Train/Benign'\n",
        "output_folder = '/content/drive/MyDrive/Spilited_Augment/Benign'\n",
        "\n",
        "split_data(input_folder, output_folder)"
      ],
      "metadata": {
        "id": "mfQxUJMoowI_"
      },
      "execution_count": null,
      "outputs": []
    },
    {
      "cell_type": "code",
      "source": [
        "from sklearn.model_selection import train_test_split\n",
        "import os\n",
        "import shutil\n",
        "\n",
        "def train_test_split_with_validation(input_folder, output_folder, test_size=0.2, validation_size=0.1, random_state=42):\n",
        "    # Create output folders if they don't exist\n",
        "    for folder in ['train', 'validation', 'test']:\n",
        "        os.makedirs(os.path.join(output_folder, folder), exist_ok=True)\n",
        "\n",
        "    # Get the list of image files\n",
        "    image_files = [f for f in os.listdir(input_folder) if f.endswith(('.jpg', '.jpeg', '.png'))]\n",
        "\n",
        "    # Split into initial training and test sets\n",
        "    train_files, test_files = train_test_split(image_files, test_size=test_size, random_state=random_state)\n",
        "\n",
        "    # Further split the training set into training and validation sets\n",
        "    train_files, val_files = train_test_split(train_files, test_size=validation_size/(1 - test_size), random_state=random_state)\n",
        "\n",
        "    # Copy images to their respective folders\n",
        "    for image in train_files:\n",
        "        shutil.copy(os.path.join(input_folder, image), os.path.join(output_folder, 'train', image))\n",
        "\n",
        "    for image in val_files:\n",
        "        shutil.copy(os.path.join(input_folder, image), os.path.join(output_folder, 'validation', image))\n",
        "\n",
        "    for image in test_files:\n",
        "        shutil.copy(os.path.join(input_folder, image), os.path.join(output_folder, 'test', image))\n",
        "\n",
        "# Example usage\n",
        "# Replace '/path/to/your/images' and '/path/to/output/folder' with actual paths\n",
        "input_folder = '/path/to/your/images'\n",
        "output_folder = '/path/to/output/folder'\n",
        "\n",
        "train_test_split_with_validation(input_folder, output_folder)\n"
      ],
      "metadata": {
        "id": "h4YfeOfwo0kp"
      },
      "execution_count": null,
      "outputs": []
    }
  ]
}