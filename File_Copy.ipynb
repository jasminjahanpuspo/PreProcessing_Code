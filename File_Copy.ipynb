{
 "cells": [
  {
   "cell_type": "code",
   "execution_count": 3,
   "id": "decimal-circus",
   "metadata": {},
   "outputs": [
    {
     "name": "stdout",
     "output_type": "stream",
     "text": [
      "input format: E:\\myprojectnew\\jupyter\\organize folder\\example\n",
      "Please enter the address of the folder that needs to be organized:G:\\MINI-DDSM-Complete-JPEG-8\\Benign\\0029\n",
      "Please enter the folder address to be copied to:D:\\ddsm_dataset_300\\1\n"
     ]
    }
   ],
   "source": [
    "import os  \n",
    "import shutil \n",
    " \n",
    "print('input format: E:\\myprojectnew\\jupyter\\organize folder\\example')\n",
    "path = input('Please enter the address of the folder that needs to be organized:')\n",
    "new_path = input('Please enter the folder address to be copied to:')\n",
    " \n",
    "for root, dirs, files in os.walk(path):\n",
    "    for i in range(len(files)):\n",
    "        #print(files[i])\n",
    "        if (files[i][-3:] == 'jpg') or (files[i][-3:] == 'png') or (files[i][-3:] == 'JPG'):\n",
    "            file_path = root+'/'+files[i]  \n",
    "            new_file_path = new_path+ '/'+ files[i]  \n",
    "            shutil.copy(file_path,new_file_path)  \n",
    " \n",
    " #yn_close = input('Do you want to exit?')"
   ]
  },
  {
   "cell_type": "code",
   "execution_count": 9,
   "id": "dutch-natural",
   "metadata": {},
   "outputs": [],
   "source": [
    "import os\n",
    "from shutil import copy\n",
    "dir_src = r\"G:\\MINI-DDSM-Complete-JPEG-8\\Benign\"\n",
    "dir_dst = r\"D:\\ddsm_Dataset\\1\\1_im\"\n",
    "for root, _, files in os.walk(dir_src):\n",
    "    for file in files:\n",
    "        if file.endswith('.jpg'):\n",
    "            copy(os.path.join(root, file), dir_dst)\n"
   ]
  },
  {
   "cell_type": "code",
   "execution_count": null,
   "id": "written-upper",
   "metadata": {},
   "outputs": [],
   "source": []
  }
 ],
 "metadata": {
  "kernelspec": {
   "display_name": "Python 3",
   "language": "python",
   "name": "python3"
  },
  "language_info": {
   "codemirror_mode": {
    "name": "ipython",
    "version": 3
   },
   "file_extension": ".py",
   "mimetype": "text/x-python",
   "name": "python",
   "nbconvert_exporter": "python",
   "pygments_lexer": "ipython3",
   "version": "3.7.9"
  }
 },
 "nbformat": 4,
 "nbformat_minor": 5
}
